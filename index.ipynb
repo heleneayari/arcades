{
 "cells": [
  {
   "cell_type": "code",
   "execution_count": 1,
   "metadata": {},
   "outputs": [
    {
     "data": {
      "text/plain": [
       "(624, 106)"
      ]
     },
     "execution_count": 1,
     "metadata": {},
     "output_type": "execute_result"
    }
   ],
   "source": [
    "import numpy as np\n",
    "#import string as st\n",
    "import pandas as pd\n",
    "import os\n",
    "import matplotlib.image as mpimg\n",
    "from matplotlib import rcParams\n",
    "\n",
    "%matplotlib inline\n",
    "import matplotlib.pyplot as plt\n",
    "import pylab\n",
    "import skimage as sc\n",
    "import h5py\n",
    "from ipywidgets import widgets\n",
    "root='/data1/thoman/ownCloud/Aude/gitcheval/'\n",
    "darc='/data1/thoman/ownCloud/Aude/gitcheval/'+'Arcades/'\n",
    "f=root+'myData_rot.csv'\n",
    "ParamFit = pd.read_csv(f)\n",
    "ParamFit.shape"
   ]
  },
  {
   "cell_type": "code",
   "execution_count": 2,
   "metadata": {},
   "outputs": [],
   "source": [
    "typeg=['ThorowgoodRbar','thorowgoodSbar','wintec','Wintec2']\n",
    "type=typeg[0]\n",
    "df=pd.read_csv(darc+type+'_fitarcades.csv')\n",
    "dfd=pd.read_csv(darc+type+'_divers.csv')\n"
   ]
  },
  {
   "cell_type": "code",
   "execution_count": 3,
   "metadata": {},
   "outputs": [],
   "source": [
    "def plot_arcade(type,couleur,cheval,translate):\n",
    "    global Param_fit\n",
    "    df=pd.read_csv(darc+type+'_fitarcades.csv')\n",
    "    dfd=pd.read_csv(darc+type+'_divers.csv')\n",
    "    couleurW.options = dfd.nom\n",
    "    tutu=dfd.nom==couleur\n",
    "    num=np.argwhere(np.array(tutu))\n",
    "    nn=num[0][0]\n",
    "    param  = np.array(df.iloc[nn,2:]) # Je récupère les paramètres du fit\n",
    "    p      = np.poly1d(param) # Je construis un polynome\n",
    "    sc=dfd.sc[0]#cm/pixel\n",
    "    cut=20\n",
    "    x_lin = np.linspace(df.iloc[nn,0],df.iloc[nn,1],1000)\n",
    "\n",
    "    yf=p(x_lin)\n",
    "    x_lin*=sc\n",
    "    yf*=sc\n",
    "    yf+=translate\n",
    "    \n",
    "    #courbe cheval\n",
    "    scch=23\n",
    "    #i0 = 1#CL  >> ON ne trace pas CL avec ce programme\n",
    "    i1 = 14 #CT1\n",
    "    i2 = 27 #CT2\n",
    "    i3 = 40 #CT3\n",
    "   \n",
    "    idx_p1 = i1+2\n",
    "    idx_p11= i1+13\n",
    "    idx_x1 = i1\n",
    "    idx_x2 = i1+1\n",
    "    paramch  = np.array(ParamFit.iloc[cheval,idx_p1:idx_p11]) # Je récupère les paramètres du fit\n",
    "    pch=np.poly1d(paramch)\n",
    "    \n",
    "    cut=20\n",
    "    x_linch = np.linspace(ParamFit.iloc[cheval,idx_x1],ParamFit.iloc[cheval,idx_x2],1000)\n",
    "\n",
    "    yfch=pch(x_linch)\n",
    "    x_linch/=scch\n",
    "    yfch/=scch\n",
    "    mm=np.max(yfch)\n",
    "    pmin=np.argmax(yfch)\n",
    "    x_linch=x_linch-x_linch[pmin]\n",
    "    yfch=yfch-mm\n",
    "    #plot\n",
    "    plt.plot(x_lin,yf)\n",
    "    plt.plot(x_linch,yfch)\n",
    "    plt.legend([\"arcade\",\"dos\"])\n",
    "    plt.show()"
   ]
  },
  {
   "cell_type": "code",
   "execution_count": 4,
   "metadata": {},
   "outputs": [
    {
     "data": {
      "application/vnd.jupyter.widget-view+json": {
       "model_id": "438759cdde3543a3ac501e739b146d5e",
       "version_major": 2,
       "version_minor": 0
      },
      "text/plain": [
       "VBox(children=(HBox(children=(Select(options=('ThorowgoodRbar', 'thorowgoodSbar', 'wintec', 'Wintec2'), value=…"
      ]
     },
     "metadata": {},
     "output_type": "display_data"
    },
    {
     "data": {
      "application/vnd.jupyter.widget-view+json": {
       "model_id": "b07703d112164deaacb538f9ee48ff2a",
       "version_major": 2,
       "version_minor": 0
      },
      "text/plain": [
       "Output()"
      ]
     },
     "metadata": {},
     "output_type": "display_data"
    }
   ],
   "source": [
    "typeW = widgets.Select(options=typeg)\n",
    "couleurW = widgets.Select(options=dfd.nom)\n",
    "\n",
    "chevalW=widgets.IntSlider(min=0,max=624,description='id_ch')\n",
    "translateW=widgets.IntSlider(min=0,max=10,description='translation_arcades')\n",
    "ui =widgets.VBox([widgets.HBox([typeW, couleurW]),widgets.HBox([chevalW,translateW])])\n",
    "#w=widgets.interactive_output(plot_arcade, type=typeW, couleur=couleurW,cheval=chevalW,translate=translateW)\n",
    "w=widgets.interactive_output(plot_arcade, {\"type\":typeW, \"couleur\":couleurW, \"cheval\":chevalW, \"translate\":translateW})\n",
    "display(ui,w)"
   ]
  },
  {
   "cell_type": "code",
   "execution_count": null,
   "metadata": {},
   "outputs": [],
   "source": []
  }
 ],
 "metadata": {
  "kernelspec": {
   "display_name": "Python 3",
   "language": "python",
   "name": "python3"
  },
  "language_info": {
   "codemirror_mode": {
    "name": "ipython",
    "version": 3
   },
   "file_extension": ".py",
   "mimetype": "text/x-python",
   "name": "python",
   "nbconvert_exporter": "python",
   "pygments_lexer": "ipython3",
   "version": "3.7.0"
  }
 },
 "nbformat": 4,
 "nbformat_minor": 4
}
